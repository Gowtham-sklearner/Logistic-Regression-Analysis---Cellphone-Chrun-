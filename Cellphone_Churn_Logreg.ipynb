{
 "cells": [
  {
   "cell_type": "markdown",
   "metadata": {},
   "source": [
    "## Logistic Regression Model"
   ]
  },
  {
   "cell_type": "markdown",
   "metadata": {},
   "source": [
    "**Reference**<br>\n",
    "https://www.kaggle.com/barun2104/telecom-churn<br>\n",
    "**Context**<br>\n",
    "With the rapid development of telecommunication industry, the service providers are inclined more towards expansion of the subscriber base. To meet the need of surviving in the competitive environment, the retention of existing customers has become a huge challenge. It is stated that the cost of acquiring a new customer is far more than that for retaining the existing one. Therefore, it is imperative for the telecom industries to use advanced analytics to understand consumer behavior and in-turn predict the association of the customers as whether or not they will leave the company.<br>\n",
    "**Content**<br>\n",
    "This data set **cellphone.csv**contains customer level information for a telecom company. Various attributes related to the services used are recorded for each customer.<br>\n",
    "<br>\n",
    "**Data Dictionary**<br>\n",
    "This data set contains customer level information for a telecom company. Various attributes related to the services used are recorded for each customer.<br>\n",
    "* Churn - 1 if customer cancelled service, 0 if not<br>\n",
    "* AccountWeeks - number of weeks customer has had active account.<br>\n",
    "* ContractRenewal - 1 if customer recently renewed contract, 0 if not<br>\n",
    "* DataPlan - 1 if customer has data plan, 0 if not.<br>\n",
    "* DataUsage - gigabytes of monthly data usage<br>\n",
    "* CustServCalls - number of calls into customer service<br>\n",
    "* DayMins - average daytime minutes per month<br>\n",
    "* DayCalls - average number of daytime calls<br>\n",
    "* MonthlyCharge - average monthly bill<br>\n",
    "* OverageFee - largest overage fee in last 12 months<br>\n",
    "* RoamMins - average number of roaming minutes<br>"
   ]
  },
  {
   "cell_type": "code",
   "execution_count": 1,
   "metadata": {},
   "outputs": [],
   "source": [
    "import pandas as pd\n",
    "import numpy as np\n",
    "\n",
    "import matplotlib.pyplot as plt\n",
    "import seaborn as sns\n",
    "\n",
    "# To enable plotting graphs in Jupyter notebook\n",
    "%matplotlib inline\n",
    "\n",
    "#Sklearn package's data splitting function which is based on random function\n",
    "from sklearn.model_selection import train_test_split\n",
    "\n",
    "#For logistic Regression model\n",
    "from sklearn.linear_model import LogisticRegression\n",
    "import statsmodels.api as sm\n",
    "\n",
    "# calculate accuracy measures and confusion matrix\n",
    "from sklearn import metrics\n",
    "\n",
    "import warnings\n",
    "warnings.filterwarnings(\"ignore\")"
   ]
  },
  {
   "cell_type": "markdown",
   "metadata": {},
   "source": [
    "## Data pre-processing"
   ]
  },
  {
   "cell_type": "code",
   "execution_count": 2,
   "metadata": {},
   "outputs": [],
   "source": [
    "# Read the csv file as a dataframe\n",
    "df1 = pd.read_csv('cellphone.csv')"
   ]
  },
  {
   "cell_type": "code",
   "execution_count": 3,
   "metadata": {
    "scrolled": true
   },
   "outputs": [
    {
     "data": {
      "text/html": [
       "<div>\n",
       "<style scoped>\n",
       "    .dataframe tbody tr th:only-of-type {\n",
       "        vertical-align: middle;\n",
       "    }\n",
       "\n",
       "    .dataframe tbody tr th {\n",
       "        vertical-align: top;\n",
       "    }\n",
       "\n",
       "    .dataframe thead th {\n",
       "        text-align: right;\n",
       "    }\n",
       "</style>\n",
       "<table border=\"1\" class=\"dataframe\">\n",
       "  <thead>\n",
       "    <tr style=\"text-align: right;\">\n",
       "      <th></th>\n",
       "      <th>Churn</th>\n",
       "      <th>AccountWeeks</th>\n",
       "      <th>ContractRenewal</th>\n",
       "      <th>DataPlan</th>\n",
       "      <th>DataUsage</th>\n",
       "      <th>CustServCalls</th>\n",
       "      <th>DayMins</th>\n",
       "      <th>DayCalls</th>\n",
       "      <th>MonthlyCharge</th>\n",
       "      <th>OverageFee</th>\n",
       "      <th>RoamMins</th>\n",
       "    </tr>\n",
       "  </thead>\n",
       "  <tbody>\n",
       "    <tr>\n",
       "      <td>0</td>\n",
       "      <td>0</td>\n",
       "      <td>128</td>\n",
       "      <td>1</td>\n",
       "      <td>1</td>\n",
       "      <td>2.7</td>\n",
       "      <td>1</td>\n",
       "      <td>265.1</td>\n",
       "      <td>110</td>\n",
       "      <td>89.0</td>\n",
       "      <td>9.87</td>\n",
       "      <td>10.0</td>\n",
       "    </tr>\n",
       "    <tr>\n",
       "      <td>1</td>\n",
       "      <td>0</td>\n",
       "      <td>107</td>\n",
       "      <td>1</td>\n",
       "      <td>1</td>\n",
       "      <td>3.7</td>\n",
       "      <td>1</td>\n",
       "      <td>161.6</td>\n",
       "      <td>123</td>\n",
       "      <td>82.0</td>\n",
       "      <td>9.78</td>\n",
       "      <td>13.7</td>\n",
       "    </tr>\n",
       "    <tr>\n",
       "      <td>2</td>\n",
       "      <td>0</td>\n",
       "      <td>137</td>\n",
       "      <td>1</td>\n",
       "      <td>0</td>\n",
       "      <td>0.0</td>\n",
       "      <td>0</td>\n",
       "      <td>243.4</td>\n",
       "      <td>114</td>\n",
       "      <td>52.0</td>\n",
       "      <td>6.06</td>\n",
       "      <td>12.2</td>\n",
       "    </tr>\n",
       "    <tr>\n",
       "      <td>3</td>\n",
       "      <td>0</td>\n",
       "      <td>84</td>\n",
       "      <td>0</td>\n",
       "      <td>0</td>\n",
       "      <td>0.0</td>\n",
       "      <td>2</td>\n",
       "      <td>299.4</td>\n",
       "      <td>71</td>\n",
       "      <td>57.0</td>\n",
       "      <td>3.10</td>\n",
       "      <td>6.6</td>\n",
       "    </tr>\n",
       "    <tr>\n",
       "      <td>4</td>\n",
       "      <td>0</td>\n",
       "      <td>75</td>\n",
       "      <td>0</td>\n",
       "      <td>0</td>\n",
       "      <td>0.0</td>\n",
       "      <td>3</td>\n",
       "      <td>166.7</td>\n",
       "      <td>113</td>\n",
       "      <td>41.0</td>\n",
       "      <td>7.42</td>\n",
       "      <td>10.1</td>\n",
       "    </tr>\n",
       "  </tbody>\n",
       "</table>\n",
       "</div>"
      ],
      "text/plain": [
       "   Churn  AccountWeeks  ContractRenewal  DataPlan  DataUsage  CustServCalls  \\\n",
       "0      0           128                1         1        2.7              1   \n",
       "1      0           107                1         1        3.7              1   \n",
       "2      0           137                1         0        0.0              0   \n",
       "3      0            84                0         0        0.0              2   \n",
       "4      0            75                0         0        0.0              3   \n",
       "\n",
       "   DayMins  DayCalls  MonthlyCharge  OverageFee  RoamMins  \n",
       "0    265.1       110           89.0        9.87      10.0  \n",
       "1    161.6       123           82.0        9.78      13.7  \n",
       "2    243.4       114           52.0        6.06      12.2  \n",
       "3    299.4        71           57.0        3.10       6.6  \n",
       "4    166.7       113           41.0        7.42      10.1  "
      ]
     },
     "execution_count": 3,
     "metadata": {},
     "output_type": "execute_result"
    }
   ],
   "source": [
    "# Viewing few rows of the DataFrame\n",
    "df1.head()"
   ]
  },
  {
   "cell_type": "code",
   "execution_count": 74,
   "metadata": {},
   "outputs": [
    {
     "data": {
      "text/plain": [
       "(3333, 12)"
      ]
     },
     "execution_count": 74,
     "metadata": {},
     "output_type": "execute_result"
    }
   ],
   "source": [
    "df1.shape"
   ]
  },
  {
   "cell_type": "markdown",
   "metadata": {},
   "source": [
    "#### This Dataset has 3333 rows and 12 columns"
   ]
  },
  {
   "cell_type": "markdown",
   "metadata": {},
   "source": [
    "## Exploratory data analysis (EDA)"
   ]
  },
  {
   "cell_type": "code",
   "execution_count": 4,
   "metadata": {
    "scrolled": true
   },
   "outputs": [
    {
     "data": {
      "text/plain": [
       "0    0.855086\n",
       "1    0.144914\n",
       "Name: Churn, dtype: float64"
      ]
     },
     "execution_count": 4,
     "metadata": {},
     "output_type": "execute_result"
    }
   ],
   "source": [
    "#Check for class imbalance of the Y variable\n",
    "\n",
    "df1['Churn'].value_counts(normalize=True)\n"
   ]
  },
  {
   "cell_type": "markdown",
   "metadata": {},
   "source": [
    "* Most of the customers who do not cancelled customer service\n",
    "* The ratio is almost 1:2 in favor or class 0\n",
    "* The model's ability to predict class 0 will be better than predicting class 1."
   ]
  },
  {
   "cell_type": "markdown",
   "metadata": {},
   "source": [
    "### Univariate Analysis"
   ]
  },
  {
   "cell_type": "code",
   "execution_count": 5,
   "metadata": {},
   "outputs": [
    {
     "data": {
      "text/plain": [
       "count    3333.000000\n",
       "mean      101.064806\n",
       "std        39.822106\n",
       "min         1.000000\n",
       "25%        74.000000\n",
       "50%       101.000000\n",
       "75%       127.000000\n",
       "max       243.000000\n",
       "Name: AccountWeeks, dtype: float64"
      ]
     },
     "execution_count": 5,
     "metadata": {},
     "output_type": "execute_result"
    }
   ],
   "source": [
    "# Summary of AccountWeeks variable\n",
    "df1['AccountWeeks'].describe()"
   ]
  },
  {
   "cell_type": "code",
   "execution_count": 6,
   "metadata": {},
   "outputs": [
    {
     "data": {
      "text/plain": [
       "count    3333.000000\n",
       "mean        0.903090\n",
       "std         0.295879\n",
       "min         0.000000\n",
       "25%         1.000000\n",
       "50%         1.000000\n",
       "75%         1.000000\n",
       "max         1.000000\n",
       "Name: ContractRenewal, dtype: float64"
      ]
     },
     "execution_count": 6,
     "metadata": {},
     "output_type": "execute_result"
    }
   ],
   "source": [
    "# Summary of ContractRenewal variable\n",
    "df1['ContractRenewal'].describe()"
   ]
  },
  {
   "cell_type": "code",
   "execution_count": 7,
   "metadata": {},
   "outputs": [
    {
     "data": {
      "text/plain": [
       "count    3333.000000\n",
       "mean        0.276628\n",
       "std         0.447398\n",
       "min         0.000000\n",
       "25%         0.000000\n",
       "50%         0.000000\n",
       "75%         1.000000\n",
       "max         1.000000\n",
       "Name: DataPlan, dtype: float64"
      ]
     },
     "execution_count": 7,
     "metadata": {},
     "output_type": "execute_result"
    }
   ],
   "source": [
    "# Summary of DataPlan variable\n",
    "df1['DataPlan'].describe()"
   ]
  },
  {
   "cell_type": "code",
   "execution_count": 8,
   "metadata": {},
   "outputs": [
    {
     "data": {
      "text/plain": [
       "count    3333.000000\n",
       "mean        0.816475\n",
       "std         1.272668\n",
       "min         0.000000\n",
       "25%         0.000000\n",
       "50%         0.000000\n",
       "75%         1.780000\n",
       "max         5.400000\n",
       "Name: DataUsage, dtype: float64"
      ]
     },
     "execution_count": 8,
     "metadata": {},
     "output_type": "execute_result"
    }
   ],
   "source": [
    "# Summary of DataUsage variable\n",
    "df1['DataUsage'].describe()"
   ]
  },
  {
   "cell_type": "code",
   "execution_count": 9,
   "metadata": {},
   "outputs": [
    {
     "data": {
      "text/plain": [
       "count    3333.000000\n",
       "mean      100.435644\n",
       "std        20.069084\n",
       "min         0.000000\n",
       "25%        87.000000\n",
       "50%       101.000000\n",
       "75%       114.000000\n",
       "max       165.000000\n",
       "Name: DayCalls, dtype: float64"
      ]
     },
     "execution_count": 9,
     "metadata": {},
     "output_type": "execute_result"
    }
   ],
   "source": [
    "# Summary of DayCalls variable\n",
    "df1['DayCalls'].describe()"
   ]
  },
  {
   "cell_type": "code",
   "execution_count": 10,
   "metadata": {},
   "outputs": [
    {
     "data": {
      "text/plain": [
       "count    3333.000000\n",
       "mean      179.775098\n",
       "std        54.467389\n",
       "min         0.000000\n",
       "25%       143.700000\n",
       "50%       179.400000\n",
       "75%       216.400000\n",
       "max       350.800000\n",
       "Name: DayMins, dtype: float64"
      ]
     },
     "execution_count": 10,
     "metadata": {},
     "output_type": "execute_result"
    }
   ],
   "source": [
    "# Summary of DayMins variable\n",
    "df1['DayMins'].describe()"
   ]
  },
  {
   "cell_type": "code",
   "execution_count": 11,
   "metadata": {},
   "outputs": [
    {
     "data": {
      "text/plain": [
       "count    3333.000000\n",
       "mean       10.051488\n",
       "std         2.535712\n",
       "min         0.000000\n",
       "25%         8.330000\n",
       "50%        10.070000\n",
       "75%        11.770000\n",
       "max        18.190000\n",
       "Name: OverageFee, dtype: float64"
      ]
     },
     "execution_count": 11,
     "metadata": {},
     "output_type": "execute_result"
    }
   ],
   "source": [
    "# Summary of OverageFee variable\n",
    "df1['OverageFee'].describe()"
   ]
  },
  {
   "cell_type": "code",
   "execution_count": 12,
   "metadata": {},
   "outputs": [
    {
     "data": {
      "text/plain": [
       "count    3333.000000\n",
       "mean        1.562856\n",
       "std         1.315491\n",
       "min         0.000000\n",
       "25%         1.000000\n",
       "50%         1.000000\n",
       "75%         2.000000\n",
       "max         9.000000\n",
       "Name: CustServCalls, dtype: float64"
      ]
     },
     "execution_count": 12,
     "metadata": {},
     "output_type": "execute_result"
    }
   ],
   "source": [
    "# Summary of CustServCalls variable\n",
    "df1['CustServCalls'].describe()"
   ]
  },
  {
   "cell_type": "code",
   "execution_count": 13,
   "metadata": {},
   "outputs": [
    {
     "data": {
      "text/plain": [
       "count    3333.000000\n",
       "mean       56.305161\n",
       "std        16.426032\n",
       "min        14.000000\n",
       "25%        45.000000\n",
       "50%        53.500000\n",
       "75%        66.200000\n",
       "max       111.300000\n",
       "Name: MonthlyCharge, dtype: float64"
      ]
     },
     "execution_count": 13,
     "metadata": {},
     "output_type": "execute_result"
    }
   ],
   "source": [
    "# Summary of MonthlyCharge variable\n",
    "df1['MonthlyCharge'].describe()"
   ]
  },
  {
   "cell_type": "code",
   "execution_count": 14,
   "metadata": {},
   "outputs": [
    {
     "data": {
      "text/plain": [
       "count    3333.000000\n",
       "mean       10.237294\n",
       "std         2.791840\n",
       "min         0.000000\n",
       "25%         8.500000\n",
       "50%        10.300000\n",
       "75%        12.100000\n",
       "max        20.000000\n",
       "Name: RoamMins, dtype: float64"
      ]
     },
     "execution_count": 14,
     "metadata": {},
     "output_type": "execute_result"
    }
   ],
   "source": [
    "# Summary of RoamMins variable\n",
    "df1['RoamMins'].describe()"
   ]
  },
  {
   "cell_type": "code",
   "execution_count": 15,
   "metadata": {},
   "outputs": [
    {
     "data": {
      "image/png": "[encoded data removed]",
      "text/plain": [
       "<Figure size 432x288 with 1 Axes>"
      ]
     },
     "metadata": {
      "needs_background": "light"
     },
     "output_type": "display_data"
    }
   ],
   "source": [
    "# Histogram for AccountWeeks \n",
    "sns.distplot(df1['AccountWeeks'],\n",
    "             bins = 10, \n",
    "             kde = False);"
   ]
  },
  {
   "cell_type": "markdown",
   "metadata": {},
   "source": [
    "#### The number of weeks customer has had active account(AccountWeeks) is mostly between 74 to 127."
   ]
  },
  {
   "cell_type": "code",
   "execution_count": 16,
   "metadata": {},
   "outputs": [
    {
     "data": {
      "image/png": "[encoded data removed]",
      "text/plain": [
       "<Figure size 432x288 with 1 Axes>"
      ]
     },
     "metadata": {
      "needs_background": "light"
     },
     "output_type": "display_data"
    }
   ],
   "source": [
    "# Histogram for DataUsage \n",
    "sns.distplot(df1['DataUsage'],\n",
    "             bins = 10, \n",
    "             kde = False);"
   ]
  },
  {
   "cell_type": "markdown",
   "metadata": {},
   "source": [
    "#### The number of gigabytes of monthly data usage(DataUsage) is mostly between 0 to 1."
   ]
  },
  {
   "cell_type": "code",
   "execution_count": 17,
   "metadata": {},
   "outputs": [
    {
     "data": {
      "image/png": "[encoded data removed]",
      "text/plain": [
       "<Figure size 432x288 with 1 Axes>"
      ]
     },
     "metadata": {
      "needs_background": "light"
     },
     "output_type": "display_data"
    }
   ],
   "source": [
    "# Histogram for CustServCalls \n",
    "sns.distplot(df1['CustServCalls'],\n",
    "             bins = 10, \n",
    "             kde = False);"
   ]
  },
  {
   "cell_type": "markdown",
   "metadata": {},
   "source": [
    "#### The number of calls into customer service(CustServCalls) is mostly between 1 to 2."
   ]
  },
  {
   "cell_type": "code",
   "execution_count": 18,
   "metadata": {},
   "outputs": [
    {
     "data": {
      "image/png": "[encoded data removed]",
      "text/plain": [
       "<Figure size 432x288 with 1 Axes>"
      ]
     },
     "metadata": {
      "needs_background": "light"
     },
     "output_type": "display_data"
    }
   ],
   "source": [
    "# Histogram for DayCalls \n",
    "sns.distplot(df1['DayCalls'],\n",
    "             bins = 10, \n",
    "             kde = False);"
   ]
  },
  {
   "cell_type": "markdown",
   "metadata": {},
   "source": [
    "#### The average number of daytime calls(DayCalls) is mostly between 87 to 114."
   ]
  },
  {
   "cell_type": "code",
   "execution_count": 19,
   "metadata": {},
   "outputs": [
    {
     "data": {
      "image/png": "[encoded data removed]",
      "text/plain": [
       "<Figure size 432x288 with 1 Axes>"
      ]
     },
     "metadata": {
      "needs_background": "light"
     },
     "output_type": "display_data"
    }
   ],
   "source": [
    "# Histogram for DayMins \n",
    "sns.distplot(df1['DayMins'],\n",
    "             bins = 10, \n",
    "             kde = False);"
   ]
  },
  {
   "cell_type": "markdown",
   "metadata": {},
   "source": [
    "#### The average daytime minutes per month(DayMins) is mostly between 143 to 216."
   ]
  },
  {
   "cell_type": "code",
   "execution_count": 20,
   "metadata": {
    "scrolled": true
   },
   "outputs": [
    {
     "data": {
      "image/png": "[encoded data removed]",
      "text/plain": [
       "<Figure size 432x288 with 1 Axes>"
      ]
     },
     "metadata": {
      "needs_background": "light"
     },
     "output_type": "display_data"
    }
   ],
   "source": [
    "# Histogram for OverageFee \n",
    "sns.distplot(df1['OverageFee'],\n",
    "             bins = 10, \n",
    "             kde = False);"
   ]
  },
  {
   "cell_type": "markdown",
   "metadata": {},
   "source": [
    "#### The largest overage fee in last 12 months(OverageFee) is mostly between 7.5 to 11.0"
   ]
  },
  {
   "cell_type": "code",
   "execution_count": 21,
   "metadata": {},
   "outputs": [
    {
     "data": {
      "image/png": "[encoded data removed]",
      "text/plain": [
       "<Figure size 432x288 with 1 Axes>"
      ]
     },
     "metadata": {
      "needs_background": "light"
     },
     "output_type": "display_data"
    }
   ],
   "source": [
    "# Histogram for MonthlyCharge \n",
    "sns.distplot(df1['MonthlyCharge'],\n",
    "             bins = 10, \n",
    "             kde = False);"
   ]
  },
  {
   "cell_type": "markdown",
   "metadata": {},
   "source": [
    "#### The average monthly bill(MonthlyCharge) is mostly between 45 to 66"
   ]
  },
  {
   "cell_type": "code",
   "execution_count": 22,
   "metadata": {},
   "outputs": [
    {
     "data": {
      "image/png": "[encoded data removed]",
      "text/plain": [
       "<Figure size 432x288 with 1 Axes>"
      ]
     },
     "metadata": {
      "needs_background": "light"
     },
     "output_type": "display_data"
    }
   ],
   "source": [
    "# Histogram for RoamMins \n",
    "sns.distplot(df1['RoamMins'],\n",
    "             bins = 10, \n",
    "             kde = False);"
   ]
  },
  {
   "cell_type": "markdown",
   "metadata": {},
   "source": [
    "#### The average number of roaming minutes is mostly between 8 to 12."
   ]
  },
  {
   "cell_type": "code",
   "execution_count": 23,
   "metadata": {},
   "outputs": [
    {
     "data": {
      "image/png": "[encoded data removed]",
      "text/plain": [
       "<Figure size 432x288 with 1 Axes>"
      ]
     },
     "metadata": {
      "needs_background": "light"
     },
     "output_type": "display_data"
    }
   ],
   "source": [
    "# Boxplot for AccountWeeks\n",
    "sns.boxplot(y = df1['AccountWeeks']);"
   ]
  },
  {
   "cell_type": "markdown",
   "metadata": {},
   "source": [
    "#### The median number of weeks customer has had active account(AccountWeeks) is 100."
   ]
  },
  {
   "cell_type": "code",
   "execution_count": 24,
   "metadata": {},
   "outputs": [
    {
     "data": {
      "image/png": "[encoded data removed]",
      "text/plain": [
       "<Figure size 432x288 with 1 Axes>"
      ]
     },
     "metadata": {
      "needs_background": "light"
     },
     "output_type": "display_data"
    }
   ],
   "source": [
    "# Boxplot for DataUsage\n",
    "sns.boxplot(y = df1['DataUsage']);"
   ]
  },
  {
   "cell_type": "markdown",
   "metadata": {},
   "source": [
    "#### The median gigabytes of monthly data usage(DataUsage) is almost 0."
   ]
  },
  {
   "cell_type": "code",
   "execution_count": 25,
   "metadata": {},
   "outputs": [
    {
     "data": {
      "image/png": "[encoded data removed]",
      "text/plain": [
       "<Figure size 432x288 with 1 Axes>"
      ]
     },
     "metadata": {
      "needs_background": "light"
     },
     "output_type": "display_data"
    }
   ],
   "source": [
    "# Boxplot for CustServCalls\n",
    "sns.boxplot(y = df1['CustServCalls']);"
   ]
  },
  {
   "cell_type": "markdown",
   "metadata": {},
   "source": [
    "#### The median number of calls into customer service(CustServCalls) is 1."
   ]
  },
  {
   "cell_type": "code",
   "execution_count": 26,
   "metadata": {},
   "outputs": [
    {
     "data": {
      "image/png": "[encoded data removed]",
      "text/plain": [
       "<Figure size 432x288 with 1 Axes>"
      ]
     },
     "metadata": {
      "needs_background": "light"
     },
     "output_type": "display_data"
    }
   ],
   "source": [
    "# Boxplot for DayMins\n",
    "sns.boxplot(y = df1['DayMins']);"
   ]
  },
  {
   "cell_type": "markdown",
   "metadata": {},
   "source": [
    "#### The median average daytime minutes per month(DayMins) is 179."
   ]
  },
  {
   "cell_type": "code",
   "execution_count": 27,
   "metadata": {},
   "outputs": [
    {
     "data": {
      "image/png": "[encoded data removed]",
      "text/plain": [
       "<Figure size 432x288 with 1 Axes>"
      ]
     },
     "metadata": {
      "needs_background": "light"
     },
     "output_type": "display_data"
    }
   ],
   "source": [
    "# Boxplot for DayCalls\n",
    "sns.boxplot(y = df1['DayCalls']);"
   ]
  },
  {
   "cell_type": "markdown",
   "metadata": {},
   "source": [
    "#### The median average number of daytime calls(DayCalls) is 101."
   ]
  },
  {
   "cell_type": "code",
   "execution_count": 28,
   "metadata": {},
   "outputs": [
    {
     "data": {
      "image/png": "[encoded data removed]",
      "text/plain": [
       "<Figure size 432x288 with 1 Axes>"
      ]
     },
     "metadata": {
      "needs_background": "light"
     },
     "output_type": "display_data"
    }
   ],
   "source": [
    "# Boxplot for OverageFee\n",
    "sns.boxplot(y = df1['OverageFee']);"
   ]
  },
  {
   "cell_type": "markdown",
   "metadata": {},
   "source": [
    "#### The median overage fee in last 12 months(OverageFee) is 10.0"
   ]
  },
  {
   "cell_type": "code",
   "execution_count": 29,
   "metadata": {},
   "outputs": [
    {
     "data": {
      "image/png": "[encoded data removed]",
      "text/plain": [
       "<Figure size 432x288 with 1 Axes>"
      ]
     },
     "metadata": {
      "needs_background": "light"
     },
     "output_type": "display_data"
    }
   ],
   "source": [
    "# Boxplot for MonthlyCharge\n",
    "sns.boxplot(y = df1['MonthlyCharge']);"
   ]
  },
  {
   "cell_type": "markdown",
   "metadata": {},
   "source": [
    "#### The median average monthly bill is 53"
   ]
  },
  {
   "cell_type": "code",
   "execution_count": 30,
   "metadata": {},
   "outputs": [
    {
     "data": {
      "image/png": "[encoded data removed]",
      "text/plain": [
       "<Figure size 432x288 with 1 Axes>"
      ]
     },
     "metadata": {
      "needs_background": "light"
     },
     "output_type": "display_data"
    }
   ],
   "source": [
    "# Boxplot for RoamMins\n",
    "sns.boxplot(y = df1['RoamMins']);"
   ]
  },
  {
   "cell_type": "markdown",
   "metadata": {},
   "source": [
    "#### The median average number of roaming minutes is 10.0"
   ]
  },
  {
   "cell_type": "code",
   "execution_count": 31,
   "metadata": {},
   "outputs": [
    {
     "data": {
      "text/plain": [
       "1    3010\n",
       "0     323\n",
       "Name: ContractRenewal, dtype: int64"
      ]
     },
     "execution_count": 31,
     "metadata": {},
     "output_type": "execute_result"
    }
   ],
   "source": [
    "# Number of values in ContractRenewal variable\n",
    "df1['ContractRenewal'].value_counts()"
   ]
  },
  {
   "cell_type": "code",
   "execution_count": 32,
   "metadata": {
    "scrolled": true
   },
   "outputs": [
    {
     "data": {
      "image/png": "[encoded data removed]",
      "text/plain": [
       "<Figure size 432x288 with 1 Axes>"
      ]
     },
     "metadata": {
      "needs_background": "light"
     },
     "output_type": "display_data"
    }
   ],
   "source": [
    "# Countplot for ContractRenewal variable\n",
    "sns.countplot(df1['ContractRenewal']);"
   ]
  },
  {
   "cell_type": "markdown",
   "metadata": {},
   "source": [
    "#### The customers recently renewed contract is higher than the customers who do not recently renew the contract."
   ]
  },
  {
   "cell_type": "code",
   "execution_count": 33,
   "metadata": {},
   "outputs": [
    {
     "data": {
      "text/plain": [
       "0    2411\n",
       "1     922\n",
       "Name: DataPlan, dtype: int64"
      ]
     },
     "execution_count": 33,
     "metadata": {},
     "output_type": "execute_result"
    }
   ],
   "source": [
    "# Number of values in DataPlan variable\n",
    "df1['DataPlan'].value_counts()"
   ]
  },
  {
   "cell_type": "code",
   "execution_count": 34,
   "metadata": {},
   "outputs": [
    {
     "data": {
      "image/png": "[encoded data removed]",
      "text/plain": [
       "<Figure size 432x288 with 1 Axes>"
      ]
     },
     "metadata": {
      "needs_background": "light"
     },
     "output_type": "display_data"
    }
   ],
   "source": [
    "# Countplot for DataPlan variable\n",
    "sns.countplot(df1['DataPlan']);"
   ]
  },
  {
   "cell_type": "markdown",
   "metadata": {},
   "source": [
    "#### The number of customers who have a data plan is lesser than the number of customers who do not have a data plan."
   ]
  },
  {
   "cell_type": "code",
   "execution_count": 35,
   "metadata": {},
   "outputs": [
    {
     "data": {
      "text/plain": [
       "0    2850\n",
       "1     483\n",
       "Name: Churn, dtype: int64"
      ]
     },
     "execution_count": 35,
     "metadata": {},
     "output_type": "execute_result"
    }
   ],
   "source": [
    "# Number of values in Churn variable\n",
    "df1['Churn'].value_counts()"
   ]
  },
  {
   "cell_type": "code",
   "execution_count": 36,
   "metadata": {},
   "outputs": [
    {
     "data": {
      "image/png": "[encoded data removed]",
      "text/plain": [
       "<Figure size 432x288 with 1 Axes>"
      ]
     },
     "metadata": {
      "needs_background": "light"
     },
     "output_type": "display_data"
    }
   ],
   "source": [
    "# Countplot for Churn variable\n",
    "sns.countplot(df1['Churn']);"
   ]
  },
  {
   "cell_type": "markdown",
   "metadata": {},
   "source": [
    "#### The number of customers who canceled service is lesser than the number of customers who do not cancel the services."
   ]
  },
  {
   "cell_type": "markdown",
   "metadata": {},
   "source": [
    "### Bivariate Analysis"
   ]
  },
  {
   "cell_type": "code",
   "execution_count": 37,
   "metadata": {},
   "outputs": [
    {
     "data": {
      "image/png": "[encoded data removed]",
      "text/plain": [
       "<Figure size 432x288 with 1 Axes>"
      ]
     },
     "metadata": {
      "needs_background": "light"
     },
     "output_type": "display_data"
    }
   ],
   "source": [
    "# Paired boxplot of Churn vs AccountWeeks\n",
    "sns.boxplot(x = 'Churn', \n",
    "            y = 'AccountWeeks',\n",
    "            data = df1);"
   ]
  },
  {
   "cell_type": "markdown",
   "metadata": {},
   "source": [
    "#### The median number of weeks a customer has had an active account(AccountWeeks) who canceled service is the same as the median number of weeks a customer has had an active account(AccountWeeks) who do not cancel service."
   ]
  },
  {
   "cell_type": "code",
   "execution_count": 38,
   "metadata": {},
   "outputs": [
    {
     "data": {
      "image/png": "[encoded data removed]",
      "text/plain": [
       "<Figure size 432x288 with 1 Axes>"
      ]
     },
     "metadata": {
      "needs_background": "light"
     },
     "output_type": "display_data"
    }
   ],
   "source": [
    "# Paired boxplot of Churn vs DataUsage\n",
    "sns.boxplot(x = 'Churn', \n",
    "            y = 'DataUsage',\n",
    "            data = df1);"
   ]
  },
  {
   "cell_type": "markdown",
   "metadata": {},
   "source": [
    "#### The median gigabytes of monthly data usage(DataUsage) of customers who canceled service is the same as the median gigabytes of monthly data usage(DataUsage) of customers who do not cancel service."
   ]
  },
  {
   "cell_type": "code",
   "execution_count": 39,
   "metadata": {},
   "outputs": [
    {
     "data": {
      "image/png": "[encoded data removed]",
      "text/plain": [
       "<Figure size 432x288 with 1 Axes>"
      ]
     },
     "metadata": {
      "needs_background": "light"
     },
     "output_type": "display_data"
    }
   ],
   "source": [
    "# Paired boxplot of Churn vs DayMins\n",
    "sns.boxplot(x = 'Churn', \n",
    "            y = 'DayMins',\n",
    "            data = df1);"
   ]
  },
  {
   "cell_type": "markdown",
   "metadata": {},
   "source": [
    "#### The median average daytime minutes per month(DayMins) of customers who canceled service is higher than the median average daytime minutes per month(DayMins) of customers who do not cancel service."
   ]
  },
  {
   "cell_type": "code",
   "execution_count": 40,
   "metadata": {},
   "outputs": [
    {
     "data": {
      "image/png": "[encoded data removed]",
      "text/plain": [
       "<Figure size 432x288 with 1 Axes>"
      ]
     },
     "metadata": {
      "needs_background": "light"
     },
     "output_type": "display_data"
    }
   ],
   "source": [
    "# Paired boxplot of Churn vs DayCalls\n",
    "sns.boxplot(x = 'Churn', \n",
    "            y = 'DayCalls',\n",
    "            data = df1);"
   ]
  },
  {
   "cell_type": "markdown",
   "metadata": {},
   "source": [
    "#### The median average number of daytime calls(DayCalls) of customers who canceled service is slightly higher than the median average number of daytime calls(DayCalls) of customers who do not cancel service."
   ]
  },
  {
   "cell_type": "code",
   "execution_count": 41,
   "metadata": {},
   "outputs": [
    {
     "data": {
      "image/png": "[encoded data removed]",
      "text/plain": [
       "<Figure size 432x288 with 1 Axes>"
      ]
     },
     "metadata": {
      "needs_background": "light"
     },
     "output_type": "display_data"
    }
   ],
   "source": [
    "# Paired boxplot of Churn vs OverageFee\n",
    "sns.boxplot(x = 'Churn', \n",
    "            y = 'OverageFee',\n",
    "            data = df1);"
   ]
  },
  {
   "cell_type": "markdown",
   "metadata": {},
   "source": [
    "#### The median overage fee in last 12 months of customers who canceled service is slightly higher than the median overage fee in last 12 months of customers who do not cancel service."
   ]
  },
  {
   "cell_type": "code",
   "execution_count": 42,
   "metadata": {},
   "outputs": [
    {
     "data": {
      "image/png": "[encoded data removed]",
      "text/plain": [
       "<Figure size 432x288 with 1 Axes>"
      ]
     },
     "metadata": {
      "needs_background": "light"
     },
     "output_type": "display_data"
    }
   ],
   "source": [
    "# Paired boxplot of Churn vs RoamMins\n",
    "sns.boxplot(x = 'Churn', \n",
    "            y = 'RoamMins',\n",
    "            data = df1);"
   ]
  },
  {
   "cell_type": "markdown",
   "metadata": {},
   "source": [
    "#### The median average number of roaming minutes of customers who canceled service is slightly higher than the median average number of roaming minutes of customers who do not cancel service."
   ]
  },
  {
   "cell_type": "code",
   "execution_count": 43,
   "metadata": {},
   "outputs": [
    {
     "data": {
      "image/png": "[encoded data removed]",
      "text/plain": [
       "<Figure size 432x288 with 1 Axes>"
      ]
     },
     "metadata": {
      "needs_background": "light"
     },
     "output_type": "display_data"
    }
   ],
   "source": [
    "# Paired boxplot of Churn vs RoamMins\n",
    "sns.boxplot(x = 'Churn', \n",
    "            y = 'MonthlyCharge',\n",
    "            data = df1);"
   ]
  },
  {
   "cell_type": "markdown",
   "metadata": {},
   "source": [
    "#### The median average monthly bill of customers who canceled service is slightly higher than the median average monthly bill of customers who do not cancel service."
   ]
  },
  {
   "cell_type": "code",
   "execution_count": 44,
   "metadata": {},
   "outputs": [
    {
     "data": {
      "image/png": "[encoded data removed]",
      "text/plain": [
       "<Figure size 432x288 with 1 Axes>"
      ]
     },
     "metadata": {
      "needs_background": "light"
     },
     "output_type": "display_data"
    }
   ],
   "source": [
    "# Stacked bar plot for Churn vs ContractRenewal\n",
    "ax = pd.crosstab(index=df1['Churn'],\n",
    "            columns=df1['ContractRenewal'],\n",
    "            normalize='index').plot(kind = 'bar',stacked = True);\n",
    "ax.legend(loc='upper right', bbox_to_anchor=(1.3, 0.8), shadow=True, ncol=1);"
   ]
  },
  {
   "cell_type": "markdown",
   "metadata": {},
   "source": [
    "#### The customer recently renewed a contract(ContractRenewal) whose canceled service is higher than the customer do not recently renewed contract(ContractRenewal) whose customer canceled service."
   ]
  },
  {
   "cell_type": "code",
   "execution_count": 45,
   "metadata": {},
   "outputs": [
    {
     "data": {
      "image/png": "[encoded data removed]",
      "text/plain": [
       "<Figure size 432x288 with 1 Axes>"
      ]
     },
     "metadata": {
      "needs_background": "light"
     },
     "output_type": "display_data"
    }
   ],
   "source": [
    "# Stacked bar plot for Churn vs DataPlan\n",
    "pd.crosstab(index=df1['Churn'],\n",
    "            columns=df1['DataPlan'],\n",
    "            normalize='index').plot(kind = 'bar',stacked = True);"
   ]
  },
  {
   "cell_type": "markdown",
   "metadata": {},
   "source": [
    "#### The customer does not have a data plan who canceled service is higher than the customer who has a data plan who cancels service."
   ]
  },
  {
   "cell_type": "code",
   "execution_count": 46,
   "metadata": {},
   "outputs": [],
   "source": [
    "## Collect numerical variables in a dataframe\n",
    "numerics = ['int16', 'int32', 'int64', 'float16', 'float32', 'float64']\n",
    "\n",
    "numerical_df = df1.select_dtypes(include=numerics)\n",
    "\n",
    "#Remove Y variable \n",
    "numerical_df.drop('Churn', axis=1, inplace=True)"
   ]
  },
  {
   "cell_type": "code",
   "execution_count": 47,
   "metadata": {},
   "outputs": [
    {
     "data": {
      "text/html": [
       "<div>\n",
       "<style scoped>\n",
       "    .dataframe tbody tr th:only-of-type {\n",
       "        vertical-align: middle;\n",
       "    }\n",
       "\n",
       "    .dataframe tbody tr th {\n",
       "        vertical-align: top;\n",
       "    }\n",
       "\n",
       "    .dataframe thead th {\n",
       "        text-align: right;\n",
       "    }\n",
       "</style>\n",
       "<table border=\"1\" class=\"dataframe\">\n",
       "  <thead>\n",
       "    <tr style=\"text-align: right;\">\n",
       "      <th></th>\n",
       "      <th>AccountWeeks</th>\n",
       "      <th>ContractRenewal</th>\n",
       "      <th>DataPlan</th>\n",
       "      <th>DataUsage</th>\n",
       "      <th>CustServCalls</th>\n",
       "      <th>DayMins</th>\n",
       "      <th>DayCalls</th>\n",
       "      <th>MonthlyCharge</th>\n",
       "      <th>OverageFee</th>\n",
       "      <th>RoamMins</th>\n",
       "    </tr>\n",
       "  </thead>\n",
       "  <tbody>\n",
       "    <tr>\n",
       "      <td>AccountWeeks</td>\n",
       "      <td>1.000000</td>\n",
       "      <td>-0.024735</td>\n",
       "      <td>0.002918</td>\n",
       "      <td>0.014391</td>\n",
       "      <td>-0.003796</td>\n",
       "      <td>0.006216</td>\n",
       "      <td>0.038470</td>\n",
       "      <td>0.012581</td>\n",
       "      <td>-0.006749</td>\n",
       "      <td>0.009514</td>\n",
       "    </tr>\n",
       "    <tr>\n",
       "      <td>ContractRenewal</td>\n",
       "      <td>-0.024735</td>\n",
       "      <td>1.000000</td>\n",
       "      <td>-0.006006</td>\n",
       "      <td>-0.019223</td>\n",
       "      <td>0.024522</td>\n",
       "      <td>-0.049396</td>\n",
       "      <td>-0.003755</td>\n",
       "      <td>-0.047291</td>\n",
       "      <td>-0.019105</td>\n",
       "      <td>-0.045871</td>\n",
       "    </tr>\n",
       "    <tr>\n",
       "      <td>DataPlan</td>\n",
       "      <td>0.002918</td>\n",
       "      <td>-0.006006</td>\n",
       "      <td>1.000000</td>\n",
       "      <td>0.945982</td>\n",
       "      <td>-0.017824</td>\n",
       "      <td>-0.001684</td>\n",
       "      <td>-0.011086</td>\n",
       "      <td>0.737490</td>\n",
       "      <td>0.021526</td>\n",
       "      <td>-0.001318</td>\n",
       "    </tr>\n",
       "    <tr>\n",
       "      <td>DataUsage</td>\n",
       "      <td>0.014391</td>\n",
       "      <td>-0.019223</td>\n",
       "      <td>0.945982</td>\n",
       "      <td>1.000000</td>\n",
       "      <td>-0.021723</td>\n",
       "      <td>0.003176</td>\n",
       "      <td>-0.007962</td>\n",
       "      <td>0.781660</td>\n",
       "      <td>0.019637</td>\n",
       "      <td>0.162746</td>\n",
       "    </tr>\n",
       "    <tr>\n",
       "      <td>CustServCalls</td>\n",
       "      <td>-0.003796</td>\n",
       "      <td>0.024522</td>\n",
       "      <td>-0.017824</td>\n",
       "      <td>-0.021723</td>\n",
       "      <td>1.000000</td>\n",
       "      <td>-0.013423</td>\n",
       "      <td>-0.018942</td>\n",
       "      <td>-0.028017</td>\n",
       "      <td>-0.012964</td>\n",
       "      <td>-0.009640</td>\n",
       "    </tr>\n",
       "    <tr>\n",
       "      <td>DayMins</td>\n",
       "      <td>0.006216</td>\n",
       "      <td>-0.049396</td>\n",
       "      <td>-0.001684</td>\n",
       "      <td>0.003176</td>\n",
       "      <td>-0.013423</td>\n",
       "      <td>1.000000</td>\n",
       "      <td>0.006750</td>\n",
       "      <td>0.567968</td>\n",
       "      <td>0.007038</td>\n",
       "      <td>-0.010155</td>\n",
       "    </tr>\n",
       "    <tr>\n",
       "      <td>DayCalls</td>\n",
       "      <td>0.038470</td>\n",
       "      <td>-0.003755</td>\n",
       "      <td>-0.011086</td>\n",
       "      <td>-0.007962</td>\n",
       "      <td>-0.018942</td>\n",
       "      <td>0.006750</td>\n",
       "      <td>1.000000</td>\n",
       "      <td>-0.007963</td>\n",
       "      <td>-0.021449</td>\n",
       "      <td>0.021565</td>\n",
       "    </tr>\n",
       "    <tr>\n",
       "      <td>MonthlyCharge</td>\n",
       "      <td>0.012581</td>\n",
       "      <td>-0.047291</td>\n",
       "      <td>0.737490</td>\n",
       "      <td>0.781660</td>\n",
       "      <td>-0.028017</td>\n",
       "      <td>0.567968</td>\n",
       "      <td>-0.007963</td>\n",
       "      <td>1.000000</td>\n",
       "      <td>0.281766</td>\n",
       "      <td>0.117433</td>\n",
       "    </tr>\n",
       "    <tr>\n",
       "      <td>OverageFee</td>\n",
       "      <td>-0.006749</td>\n",
       "      <td>-0.019105</td>\n",
       "      <td>0.021526</td>\n",
       "      <td>0.019637</td>\n",
       "      <td>-0.012964</td>\n",
       "      <td>0.007038</td>\n",
       "      <td>-0.021449</td>\n",
       "      <td>0.281766</td>\n",
       "      <td>1.000000</td>\n",
       "      <td>-0.011023</td>\n",
       "    </tr>\n",
       "    <tr>\n",
       "      <td>RoamMins</td>\n",
       "      <td>0.009514</td>\n",
       "      <td>-0.045871</td>\n",
       "      <td>-0.001318</td>\n",
       "      <td>0.162746</td>\n",
       "      <td>-0.009640</td>\n",
       "      <td>-0.010155</td>\n",
       "      <td>0.021565</td>\n",
       "      <td>0.117433</td>\n",
       "      <td>-0.011023</td>\n",
       "      <td>1.000000</td>\n",
       "    </tr>\n",
       "  </tbody>\n",
       "</table>\n",
       "</div>"
      ],
      "text/plain": [
       "                 AccountWeeks  ContractRenewal  DataPlan  DataUsage  \\\n",
       "AccountWeeks         1.000000        -0.024735  0.002918   0.014391   \n",
       "ContractRenewal     -0.024735         1.000000 -0.006006  -0.019223   \n",
       "DataPlan             0.002918        -0.006006  1.000000   0.945982   \n",
       "DataUsage            0.014391        -0.019223  0.945982   1.000000   \n",
       "CustServCalls       -0.003796         0.024522 -0.017824  -0.021723   \n",
       "DayMins              0.006216        -0.049396 -0.001684   0.003176   \n",
       "DayCalls             0.038470        -0.003755 -0.011086  -0.007962   \n",
       "MonthlyCharge        0.012581        -0.047291  0.737490   0.781660   \n",
       "OverageFee          -0.006749        -0.019105  0.021526   0.019637   \n",
       "RoamMins             0.009514        -0.045871 -0.001318   0.162746   \n",
       "\n",
       "                 CustServCalls   DayMins  DayCalls  MonthlyCharge  OverageFee  \\\n",
       "AccountWeeks         -0.003796  0.006216  0.038470       0.012581   -0.006749   \n",
       "ContractRenewal       0.024522 -0.049396 -0.003755      -0.047291   -0.019105   \n",
       "DataPlan             -0.017824 -0.001684 -0.011086       0.737490    0.021526   \n",
       "DataUsage            -0.021723  0.003176 -0.007962       0.781660    0.019637   \n",
       "CustServCalls         1.000000 -0.013423 -0.018942      -0.028017   -0.012964   \n",
       "DayMins              -0.013423  1.000000  0.006750       0.567968    0.007038   \n",
       "DayCalls             -0.018942  0.006750  1.000000      -0.007963   -0.021449   \n",
       "MonthlyCharge        -0.028017  0.567968 -0.007963       1.000000    0.281766   \n",
       "OverageFee           -0.012964  0.007038 -0.021449       0.281766    1.000000   \n",
       "RoamMins             -0.009640 -0.010155  0.021565       0.117433   -0.011023   \n",
       "\n",
       "                 RoamMins  \n",
       "AccountWeeks     0.009514  \n",
       "ContractRenewal -0.045871  \n",
       "DataPlan        -0.001318  \n",
       "DataUsage        0.162746  \n",
       "CustServCalls   -0.009640  \n",
       "DayMins         -0.010155  \n",
       "DayCalls         0.021565  \n",
       "MonthlyCharge    0.117433  \n",
       "OverageFee      -0.011023  \n",
       "RoamMins         1.000000  "
      ]
     },
     "execution_count": 47,
     "metadata": {},
     "output_type": "execute_result"
    }
   ],
   "source": [
    "# Check correlation among numerical independent variables using correlation matrix\n",
    "cor = numerical_df.corr()\n",
    "cor"
   ]
  },
  {
   "cell_type": "code",
   "execution_count": 48,
   "metadata": {},
   "outputs": [
    {
     "data": {
      "image/png": "[encoded data removed]",
      "text/plain": [
       "<Figure size 720x720 with 2 Axes>"
      ]
     },
     "metadata": {
      "needs_background": "light"
     },
     "output_type": "display_data"
    }
   ],
   "source": [
    "# View heat map of the correlation matrix\n",
    "fig, ax = plt.subplots(figsize=(10,10))\n",
    "sns.heatmap(cor, vmin = -1, vmax = 1, cmap = 'plasma', annot = True);"
   ]
  },
  {
   "cell_type": "code",
   "execution_count": 49,
   "metadata": {},
   "outputs": [
    {
     "data": {
      "text/plain": [
       "DataUsage      DataPlan         0.945982\n",
       "DataPlan       DataUsage        0.945982\n",
       "DataUsage      MonthlyCharge    0.781660\n",
       "MonthlyCharge  DataUsage        0.781660\n",
       "DataPlan       MonthlyCharge    0.737490\n",
       "MonthlyCharge  DataPlan         0.737490\n",
       "DayMins        MonthlyCharge    0.567968\n",
       "MonthlyCharge  DayMins          0.567968\n",
       "OverageFee     MonthlyCharge    0.281766\n",
       "MonthlyCharge  OverageFee       0.281766\n",
       "dtype: float64"
      ]
     },
     "execution_count": 49,
     "metadata": {},
     "output_type": "execute_result"
    }
   ],
   "source": [
    "#Highly correlated X variables\n",
    "c = cor.abs()\n",
    "\n",
    "# Unstack the correlation matrix\n",
    "s = c.unstack()\n",
    "\n",
    "#Filter to exclude values of 1\n",
    "s = s[s != 1]\n",
    "\n",
    "# Sort descending to find the highly correlated variables\n",
    "so = s.sort_values(kind=\"quicksort\", ascending=False)[:10]\n",
    "so"
   ]
  },
  {
   "cell_type": "code",
   "execution_count": 50,
   "metadata": {},
   "outputs": [],
   "source": [
    "# Remove the High Correlated columns\n",
    "data2 = df1.drop(['DataUsage','DayCalls'],axis = 1)"
   ]
  },
  {
   "cell_type": "code",
   "execution_count": 51,
   "metadata": {},
   "outputs": [],
   "source": [
    "# Define X and Y variables\n",
    "X = df1.drop('Churn', axis=1)\n",
    "Y = df1['Churn']"
   ]
  },
  {
   "cell_type": "code",
   "execution_count": 52,
   "metadata": {},
   "outputs": [
    {
     "name": "stdout",
     "output_type": "stream",
     "text": [
      "Optimization terminated successfully.\n",
      "         Current function value: 0.328291\n",
      "         Iterations 7\n"
     ]
    }
   ],
   "source": [
    "# Build the logistic regression model\n",
    "import random\n",
    "random.seed(10)\n",
    "logreg = sm.Logit(Y,sm.add_constant(X))\n",
    "lg =logreg.fit()"
   ]
  },
  {
   "cell_type": "code",
   "execution_count": 53,
   "metadata": {
    "scrolled": false
   },
   "outputs": [
    {
     "name": "stdout",
     "output_type": "stream",
     "text": [
      "                           Logit Regression Results                           \n",
      "==============================================================================\n",
      "Dep. Variable:                  Churn   No. Observations:                 3333\n",
      "Model:                          Logit   Df Residuals:                     3322\n",
      "Method:                           MLE   Df Model:                           10\n",
      "Date:                Thu, 25 Mar 2021   Pseudo R-squ.:                  0.2066\n",
      "Time:                        14:49:56   Log-Likelihood:                -1094.2\n",
      "converged:                       True   LL-Null:                       -1379.1\n",
      "Covariance Type:            nonrobust   LLR p-value:                4.910e-116\n",
      "===================================================================================\n",
      "                      coef    std err          z      P>|z|      [0.025      0.975]\n",
      "-----------------------------------------------------------------------------------\n",
      "const              -5.9510      0.549    -10.845      0.000      -7.026      -4.876\n",
      "AccountWeeks        0.0007      0.001      0.470      0.638      -0.002       0.003\n",
      "ContractRenewal    -1.9855      0.144    -13.825      0.000      -2.267      -1.704\n",
      "DataPlan           -1.1842      0.536     -2.207      0.027      -2.236      -0.133\n",
      "DataUsage           0.3637      1.923      0.189      0.850      -3.406       4.133\n",
      "CustServCalls       0.5081      0.039     13.039      0.000       0.432       0.585\n",
      "DayMins             0.0174      0.032      0.537      0.591      -0.046       0.081\n",
      "DayCalls            0.0037      0.003      1.328      0.184      -0.002       0.009\n",
      "MonthlyCharge      -0.0276      0.191     -0.144      0.885      -0.402       0.347\n",
      "OverageFee          0.1868      0.326      0.574      0.566      -0.452       0.825\n",
      "RoamMins            0.0789      0.022      3.579      0.000       0.036       0.122\n",
      "===================================================================================\n"
     ]
    }
   ],
   "source": [
    "#Summary of logistic regression\n",
    "print(lg.summary())"
   ]
  },
  {
   "cell_type": "markdown",
   "metadata": {},
   "source": [
    "#### In the main table, p value of F-stat, 4.910e-116, is well below our level of significance 0.05. So, the overall model is statistically significant and valid for estimating the population Y variable.\n",
    "#### Pseudo R-Squared value of 20.6% indicates moderate explanatory power of the independent variables for changes in Y variable"
   ]
  },
  {
   "cell_type": "code",
   "execution_count": 54,
   "metadata": {},
   "outputs": [
    {
     "data": {
      "text/html": [
       "<div>\n",
       "<style scoped>\n",
       "    .dataframe tbody tr th:only-of-type {\n",
       "        vertical-align: middle;\n",
       "    }\n",
       "\n",
       "    .dataframe tbody tr th {\n",
       "        vertical-align: top;\n",
       "    }\n",
       "\n",
       "    .dataframe thead th {\n",
       "        text-align: right;\n",
       "    }\n",
       "</style>\n",
       "<table border=\"1\" class=\"dataframe\">\n",
       "  <thead>\n",
       "    <tr style=\"text-align: right;\">\n",
       "      <th></th>\n",
       "      <th>coef</th>\n",
       "      <th>pvalue</th>\n",
       "    </tr>\n",
       "  </thead>\n",
       "  <tbody>\n",
       "    <tr>\n",
       "      <td>CustServCalls</td>\n",
       "      <td>0.508135</td>\n",
       "      <td>0.000</td>\n",
       "    </tr>\n",
       "    <tr>\n",
       "      <td>RoamMins</td>\n",
       "      <td>0.078923</td>\n",
       "      <td>0.000</td>\n",
       "    </tr>\n",
       "    <tr>\n",
       "      <td>DataPlan</td>\n",
       "      <td>-1.184161</td>\n",
       "      <td>0.027</td>\n",
       "    </tr>\n",
       "    <tr>\n",
       "      <td>ContractRenewal</td>\n",
       "      <td>-1.985517</td>\n",
       "      <td>0.000</td>\n",
       "    </tr>\n",
       "    <tr>\n",
       "      <td>const</td>\n",
       "      <td>-5.951025</td>\n",
       "      <td>0.000</td>\n",
       "    </tr>\n",
       "  </tbody>\n",
       "</table>\n",
       "</div>"
      ],
      "text/plain": [
       "                     coef  pvalue\n",
       "CustServCalls    0.508135   0.000\n",
       "RoamMins         0.078923   0.000\n",
       "DataPlan        -1.184161   0.027\n",
       "ContractRenewal -1.985517   0.000\n",
       "const           -5.951025   0.000"
      ]
     },
     "execution_count": 54,
     "metadata": {},
     "output_type": "execute_result"
    }
   ],
   "source": [
    "# Display the co-efficients and p values for each independent variable\n",
    "coeff = pd.DataFrame(lg.params, columns = ['coef'])\n",
    "coeff['pvalue'] = lg.pvalues.round(3)\n",
    "\n",
    "# Sort the data in descending order of coefficients to identify significant X variables\n",
    "coeff.sort_values(by='coef', ascending=False, inplace=True)\n",
    "\n",
    "#Display only significant X variables\n",
    "coeff[coeff['pvalue']<=0.05]"
   ]
  },
  {
   "cell_type": "code",
   "execution_count": 55,
   "metadata": {},
   "outputs": [
    {
     "data": {
      "text/html": [
       "<div>\n",
       "<style scoped>\n",
       "    .dataframe tbody tr th:only-of-type {\n",
       "        vertical-align: middle;\n",
       "    }\n",
       "\n",
       "    .dataframe tbody tr th {\n",
       "        vertical-align: top;\n",
       "    }\n",
       "\n",
       "    .dataframe thead th {\n",
       "        text-align: right;\n",
       "    }\n",
       "</style>\n",
       "<table border=\"1\" class=\"dataframe\">\n",
       "  <thead>\n",
       "    <tr style=\"text-align: right;\">\n",
       "      <th></th>\n",
       "      <th>coef</th>\n",
       "      <th>Odds_ratio</th>\n",
       "    </tr>\n",
       "  </thead>\n",
       "  <tbody>\n",
       "    <tr>\n",
       "      <td>const</td>\n",
       "      <td>-5.951025</td>\n",
       "      <td>0.002603</td>\n",
       "    </tr>\n",
       "    <tr>\n",
       "      <td>AccountWeeks</td>\n",
       "      <td>0.000652</td>\n",
       "      <td>1.000653</td>\n",
       "    </tr>\n",
       "    <tr>\n",
       "      <td>ContractRenewal</td>\n",
       "      <td>-1.985517</td>\n",
       "      <td>0.137310</td>\n",
       "    </tr>\n",
       "    <tr>\n",
       "      <td>DataPlan</td>\n",
       "      <td>-1.184161</td>\n",
       "      <td>0.306003</td>\n",
       "    </tr>\n",
       "    <tr>\n",
       "      <td>DataUsage</td>\n",
       "      <td>0.363657</td>\n",
       "      <td>1.438580</td>\n",
       "    </tr>\n",
       "    <tr>\n",
       "      <td>CustServCalls</td>\n",
       "      <td>0.508135</td>\n",
       "      <td>1.662188</td>\n",
       "    </tr>\n",
       "    <tr>\n",
       "      <td>DayMins</td>\n",
       "      <td>0.017441</td>\n",
       "      <td>1.017594</td>\n",
       "    </tr>\n",
       "    <tr>\n",
       "      <td>DayCalls</td>\n",
       "      <td>0.003652</td>\n",
       "      <td>1.003659</td>\n",
       "    </tr>\n",
       "    <tr>\n",
       "      <td>MonthlyCharge</td>\n",
       "      <td>-0.027553</td>\n",
       "      <td>0.972823</td>\n",
       "    </tr>\n",
       "    <tr>\n",
       "      <td>OverageFee</td>\n",
       "      <td>0.186811</td>\n",
       "      <td>1.205400</td>\n",
       "    </tr>\n",
       "    <tr>\n",
       "      <td>RoamMins</td>\n",
       "      <td>0.078923</td>\n",
       "      <td>1.082121</td>\n",
       "    </tr>\n",
       "  </tbody>\n",
       "</table>\n",
       "</div>"
      ],
      "text/plain": [
       "                     coef  Odds_ratio\n",
       "const           -5.951025    0.002603\n",
       "AccountWeeks     0.000652    1.000653\n",
       "ContractRenewal -1.985517    0.137310\n",
       "DataPlan        -1.184161    0.306003\n",
       "DataUsage        0.363657    1.438580\n",
       "CustServCalls    0.508135    1.662188\n",
       "DayMins          0.017441    1.017594\n",
       "DayCalls         0.003652    1.003659\n",
       "MonthlyCharge   -0.027553    0.972823\n",
       "OverageFee       0.186811    1.205400\n",
       "RoamMins         0.078923    1.082121"
      ]
     },
     "execution_count": 55,
     "metadata": {},
     "output_type": "execute_result"
    }
   ],
   "source": [
    "# Collect the coef in a dataframe\n",
    "lgcoef = pd.DataFrame(lg.params,columns = ['coef'])\n",
    "\n",
    "# Calculate Odds Ratio\n",
    "lgcoef['Odds_ratio'] = np.exp(lgcoef.coef)\n",
    "lgcoef"
   ]
  },
  {
   "cell_type": "code",
   "execution_count": 56,
   "metadata": {},
   "outputs": [
    {
     "data": {
      "text/html": [
       "<div>\n",
       "<style scoped>\n",
       "    .dataframe tbody tr th:only-of-type {\n",
       "        vertical-align: middle;\n",
       "    }\n",
       "\n",
       "    .dataframe tbody tr th {\n",
       "        vertical-align: top;\n",
       "    }\n",
       "\n",
       "    .dataframe thead th {\n",
       "        text-align: right;\n",
       "    }\n",
       "</style>\n",
       "<table border=\"1\" class=\"dataframe\">\n",
       "  <thead>\n",
       "    <tr style=\"text-align: right;\">\n",
       "      <th></th>\n",
       "      <th>coef</th>\n",
       "      <th>Odds_ratio</th>\n",
       "      <th>probability</th>\n",
       "    </tr>\n",
       "  </thead>\n",
       "  <tbody>\n",
       "    <tr>\n",
       "      <td>const</td>\n",
       "      <td>-5.951025</td>\n",
       "      <td>0.002603</td>\n",
       "      <td>0.002596</td>\n",
       "    </tr>\n",
       "    <tr>\n",
       "      <td>AccountWeeks</td>\n",
       "      <td>0.000652</td>\n",
       "      <td>1.000653</td>\n",
       "      <td>0.500163</td>\n",
       "    </tr>\n",
       "    <tr>\n",
       "      <td>ContractRenewal</td>\n",
       "      <td>-1.985517</td>\n",
       "      <td>0.137310</td>\n",
       "      <td>0.120732</td>\n",
       "    </tr>\n",
       "    <tr>\n",
       "      <td>DataPlan</td>\n",
       "      <td>-1.184161</td>\n",
       "      <td>0.306003</td>\n",
       "      <td>0.234305</td>\n",
       "    </tr>\n",
       "    <tr>\n",
       "      <td>DataUsage</td>\n",
       "      <td>0.363657</td>\n",
       "      <td>1.438580</td>\n",
       "      <td>0.589925</td>\n",
       "    </tr>\n",
       "    <tr>\n",
       "      <td>CustServCalls</td>\n",
       "      <td>0.508135</td>\n",
       "      <td>1.662188</td>\n",
       "      <td>0.624369</td>\n",
       "    </tr>\n",
       "    <tr>\n",
       "      <td>DayMins</td>\n",
       "      <td>0.017441</td>\n",
       "      <td>1.017594</td>\n",
       "      <td>0.504360</td>\n",
       "    </tr>\n",
       "    <tr>\n",
       "      <td>DayCalls</td>\n",
       "      <td>0.003652</td>\n",
       "      <td>1.003659</td>\n",
       "      <td>0.500913</td>\n",
       "    </tr>\n",
       "    <tr>\n",
       "      <td>MonthlyCharge</td>\n",
       "      <td>-0.027553</td>\n",
       "      <td>0.972823</td>\n",
       "      <td>0.493112</td>\n",
       "    </tr>\n",
       "    <tr>\n",
       "      <td>OverageFee</td>\n",
       "      <td>0.186811</td>\n",
       "      <td>1.205400</td>\n",
       "      <td>0.546568</td>\n",
       "    </tr>\n",
       "    <tr>\n",
       "      <td>RoamMins</td>\n",
       "      <td>0.078923</td>\n",
       "      <td>1.082121</td>\n",
       "      <td>0.519720</td>\n",
       "    </tr>\n",
       "  </tbody>\n",
       "</table>\n",
       "</div>"
      ],
      "text/plain": [
       "                     coef  Odds_ratio  probability\n",
       "const           -5.951025    0.002603     0.002596\n",
       "AccountWeeks     0.000652    1.000653     0.500163\n",
       "ContractRenewal -1.985517    0.137310     0.120732\n",
       "DataPlan        -1.184161    0.306003     0.234305\n",
       "DataUsage        0.363657    1.438580     0.589925\n",
       "CustServCalls    0.508135    1.662188     0.624369\n",
       "DayMins          0.017441    1.017594     0.504360\n",
       "DayCalls         0.003652    1.003659     0.500913\n",
       "MonthlyCharge   -0.027553    0.972823     0.493112\n",
       "OverageFee       0.186811    1.205400     0.546568\n",
       "RoamMins         0.078923    1.082121     0.519720"
      ]
     },
     "execution_count": 56,
     "metadata": {},
     "output_type": "execute_result"
    }
   ],
   "source": [
    "# Calculate probability\n",
    "lgcoef['probability'] = lgcoef['Odds_ratio']/(1+lgcoef['Odds_ratio'])\n",
    "lgcoef"
   ]
  },
  {
   "cell_type": "code",
   "execution_count": 57,
   "metadata": {},
   "outputs": [
    {
     "data": {
      "text/html": [
       "<div>\n",
       "<style scoped>\n",
       "    .dataframe tbody tr th:only-of-type {\n",
       "        vertical-align: middle;\n",
       "    }\n",
       "\n",
       "    .dataframe tbody tr th {\n",
       "        vertical-align: top;\n",
       "    }\n",
       "\n",
       "    .dataframe thead th {\n",
       "        text-align: right;\n",
       "    }\n",
       "</style>\n",
       "<table border=\"1\" class=\"dataframe\">\n",
       "  <thead>\n",
       "    <tr style=\"text-align: right;\">\n",
       "      <th></th>\n",
       "      <th>coef</th>\n",
       "      <th>Odds_ratio</th>\n",
       "      <th>probability</th>\n",
       "      <th>pval</th>\n",
       "    </tr>\n",
       "  </thead>\n",
       "  <tbody>\n",
       "    <tr>\n",
       "      <td>const</td>\n",
       "      <td>-5.95</td>\n",
       "      <td>0.00</td>\n",
       "      <td>0.00</td>\n",
       "      <td>0.00</td>\n",
       "    </tr>\n",
       "    <tr>\n",
       "      <td>AccountWeeks</td>\n",
       "      <td>0.00</td>\n",
       "      <td>1.00</td>\n",
       "      <td>0.50</td>\n",
       "      <td>0.64</td>\n",
       "    </tr>\n",
       "    <tr>\n",
       "      <td>ContractRenewal</td>\n",
       "      <td>-1.99</td>\n",
       "      <td>0.14</td>\n",
       "      <td>0.12</td>\n",
       "      <td>0.00</td>\n",
       "    </tr>\n",
       "    <tr>\n",
       "      <td>DataPlan</td>\n",
       "      <td>-1.18</td>\n",
       "      <td>0.31</td>\n",
       "      <td>0.23</td>\n",
       "      <td>0.03</td>\n",
       "    </tr>\n",
       "    <tr>\n",
       "      <td>DataUsage</td>\n",
       "      <td>0.36</td>\n",
       "      <td>1.44</td>\n",
       "      <td>0.59</td>\n",
       "      <td>0.85</td>\n",
       "    </tr>\n",
       "    <tr>\n",
       "      <td>CustServCalls</td>\n",
       "      <td>0.51</td>\n",
       "      <td>1.66</td>\n",
       "      <td>0.62</td>\n",
       "      <td>0.00</td>\n",
       "    </tr>\n",
       "    <tr>\n",
       "      <td>DayMins</td>\n",
       "      <td>0.02</td>\n",
       "      <td>1.02</td>\n",
       "      <td>0.50</td>\n",
       "      <td>0.59</td>\n",
       "    </tr>\n",
       "    <tr>\n",
       "      <td>DayCalls</td>\n",
       "      <td>0.00</td>\n",
       "      <td>1.00</td>\n",
       "      <td>0.50</td>\n",
       "      <td>0.18</td>\n",
       "    </tr>\n",
       "    <tr>\n",
       "      <td>MonthlyCharge</td>\n",
       "      <td>-0.03</td>\n",
       "      <td>0.97</td>\n",
       "      <td>0.49</td>\n",
       "      <td>0.89</td>\n",
       "    </tr>\n",
       "    <tr>\n",
       "      <td>OverageFee</td>\n",
       "      <td>0.19</td>\n",
       "      <td>1.21</td>\n",
       "      <td>0.55</td>\n",
       "      <td>0.57</td>\n",
       "    </tr>\n",
       "    <tr>\n",
       "      <td>RoamMins</td>\n",
       "      <td>0.08</td>\n",
       "      <td>1.08</td>\n",
       "      <td>0.52</td>\n",
       "      <td>0.00</td>\n",
       "    </tr>\n",
       "  </tbody>\n",
       "</table>\n",
       "</div>"
      ],
      "text/plain": [
       "                 coef  Odds_ratio  probability  pval\n",
       "const           -5.95        0.00         0.00  0.00\n",
       "AccountWeeks     0.00        1.00         0.50  0.64\n",
       "ContractRenewal -1.99        0.14         0.12  0.00\n",
       "DataPlan        -1.18        0.31         0.23  0.03\n",
       "DataUsage        0.36        1.44         0.59  0.85\n",
       "CustServCalls    0.51        1.66         0.62  0.00\n",
       "DayMins          0.02        1.02         0.50  0.59\n",
       "DayCalls         0.00        1.00         0.50  0.18\n",
       "MonthlyCharge   -0.03        0.97         0.49  0.89\n",
       "OverageFee       0.19        1.21         0.55  0.57\n",
       "RoamMins         0.08        1.08         0.52  0.00"
      ]
     },
     "execution_count": 57,
     "metadata": {},
     "output_type": "execute_result"
    }
   ],
   "source": [
    "# Calculate p value\n",
    "lgcoef['pval'] = lg.pvalues\n",
    "\n",
    "#Display rounded to 2 decimal points\n",
    "pd.options.display.float_format = '{:.2f}'.format\n",
    "lgcoef"
   ]
  },
  {
   "cell_type": "code",
   "execution_count": 58,
   "metadata": {},
   "outputs": [
    {
     "data": {
      "text/html": [
       "<div>\n",
       "<style scoped>\n",
       "    .dataframe tbody tr th:only-of-type {\n",
       "        vertical-align: middle;\n",
       "    }\n",
       "\n",
       "    .dataframe tbody tr th {\n",
       "        vertical-align: top;\n",
       "    }\n",
       "\n",
       "    .dataframe thead th {\n",
       "        text-align: right;\n",
       "    }\n",
       "</style>\n",
       "<table border=\"1\" class=\"dataframe\">\n",
       "  <thead>\n",
       "    <tr style=\"text-align: right;\">\n",
       "      <th></th>\n",
       "      <th>coef</th>\n",
       "      <th>Odds_ratio</th>\n",
       "      <th>probability</th>\n",
       "      <th>pval</th>\n",
       "    </tr>\n",
       "  </thead>\n",
       "  <tbody>\n",
       "    <tr>\n",
       "      <td>CustServCalls</td>\n",
       "      <td>0.51</td>\n",
       "      <td>1.66</td>\n",
       "      <td>0.62</td>\n",
       "      <td>0.00</td>\n",
       "    </tr>\n",
       "    <tr>\n",
       "      <td>RoamMins</td>\n",
       "      <td>0.08</td>\n",
       "      <td>1.08</td>\n",
       "      <td>0.52</td>\n",
       "      <td>0.00</td>\n",
       "    </tr>\n",
       "    <tr>\n",
       "      <td>DataPlan</td>\n",
       "      <td>-1.18</td>\n",
       "      <td>0.31</td>\n",
       "      <td>0.23</td>\n",
       "      <td>0.03</td>\n",
       "    </tr>\n",
       "    <tr>\n",
       "      <td>ContractRenewal</td>\n",
       "      <td>-1.99</td>\n",
       "      <td>0.14</td>\n",
       "      <td>0.12</td>\n",
       "      <td>0.00</td>\n",
       "    </tr>\n",
       "    <tr>\n",
       "      <td>const</td>\n",
       "      <td>-5.95</td>\n",
       "      <td>0.00</td>\n",
       "      <td>0.00</td>\n",
       "      <td>0.00</td>\n",
       "    </tr>\n",
       "  </tbody>\n",
       "</table>\n",
       "</div>"
      ],
      "text/plain": [
       "                 coef  Odds_ratio  probability  pval\n",
       "CustServCalls    0.51        1.66         0.62  0.00\n",
       "RoamMins         0.08        1.08         0.52  0.00\n",
       "DataPlan        -1.18        0.31         0.23  0.03\n",
       "ContractRenewal -1.99        0.14         0.12  0.00\n",
       "const           -5.95        0.00         0.00  0.00"
      ]
     },
     "execution_count": 58,
     "metadata": {},
     "output_type": "execute_result"
    }
   ],
   "source": [
    "# Sort by descending order of odds_ratio\n",
    "lgcoef = lgcoef.sort_values(by = 'Odds_ratio', ascending =  False)\n",
    "\n",
    "# Filter to display only variables with significant p value\n",
    "pval_filter = lgcoef['pval'] <= 0.05\n",
    "lgcoef[pval_filter]"
   ]
  },
  {
   "cell_type": "markdown",
   "metadata": {},
   "source": [
    "#### All the other variables remains constant, every increase in customers who cancelled the plan, the odds of CustServCalls increase by 1.66, the odds of RoamMins increase by 1.08, the odds of DataPlan increase by 0.31, and the odds of ContractRenenewal increase by 0.14"
   ]
  },
  {
   "cell_type": "code",
   "execution_count": 59,
   "metadata": {},
   "outputs": [
    {
     "data": {
      "text/plain": [
       "LogisticRegression(C=1.0, class_weight=None, dual=False, fit_intercept=True,\n",
       "                   intercept_scaling=1, l1_ratio=None, max_iter=100,\n",
       "                   multi_class='warn', n_jobs=None, penalty='l2',\n",
       "                   random_state=None, solver='warn', tol=0.0001, verbose=0,\n",
       "                   warm_start=False)"
      ]
     },
     "execution_count": 59,
     "metadata": {},
     "output_type": "execute_result"
    }
   ],
   "source": [
    "## Logistic Regression using sklearn\n",
    "logreg = LogisticRegression()\n",
    "logreg.fit(X,Y)"
   ]
  },
  {
   "cell_type": "code",
   "execution_count": 60,
   "metadata": {},
   "outputs": [
    {
     "data": {
      "text/plain": [
       "array([[-2.98034760e-04, -1.97296448e+00, -1.11661418e+00,\n",
       "         2.00704538e-01,  4.75805445e-01,  1.36235330e-02,\n",
       "        -1.77829749e-04, -1.27506570e-02,  1.29663856e-01,\n",
       "         5.53802189e-02]])"
      ]
     },
     "execution_count": 60,
     "metadata": {},
     "output_type": "execute_result"
    }
   ],
   "source": [
    "# Coefficients of the X variables\n",
    "logreg.coef_"
   ]
  },
  {
   "cell_type": "code",
   "execution_count": 61,
   "metadata": {},
   "outputs": [
    {
     "data": {
      "text/plain": [
       "array([0, 0, 1, 1, 0, 0, 0, 0, 0], dtype=int64)"
      ]
     },
     "execution_count": 61,
     "metadata": {},
     "output_type": "execute_result"
    }
   ],
   "source": [
    "# Predicting Y class\n",
    "Y_pred = logreg.predict(X)\n",
    "Y_pred[1:10]"
   ]
  },
  {
   "cell_type": "code",
   "execution_count": 62,
   "metadata": {},
   "outputs": [
    {
     "data": {
      "text/plain": [
       "array([[0.91587, 0.08413],\n",
       "       [0.96479, 0.03521],\n",
       "       [0.9233 , 0.0767 ],\n",
       "       [0.38576, 0.61424],\n",
       "       [0.47843, 0.52157],\n",
       "       [0.62835, 0.37165],\n",
       "       [0.79247, 0.20753],\n",
       "       [0.86808, 0.13192],\n",
       "       [0.83471, 0.16529],\n",
       "       [0.67734, 0.32266]])"
      ]
     },
     "execution_count": 62,
     "metadata": {},
     "output_type": "execute_result"
    }
   ],
   "source": [
    "# Predicting Y probability\n",
    "Y_pred_prob = logreg.predict_proba(X)\n",
    "Y_pred_prob[:10].round(5)"
   ]
  },
  {
   "cell_type": "code",
   "execution_count": 63,
   "metadata": {},
   "outputs": [
    {
     "data": {
      "text/html": [
       "<div>\n",
       "<style scoped>\n",
       "    .dataframe tbody tr th:only-of-type {\n",
       "        vertical-align: middle;\n",
       "    }\n",
       "\n",
       "    .dataframe tbody tr th {\n",
       "        vertical-align: top;\n",
       "    }\n",
       "\n",
       "    .dataframe thead th {\n",
       "        text-align: right;\n",
       "    }\n",
       "</style>\n",
       "<table border=\"1\" class=\"dataframe\">\n",
       "  <thead>\n",
       "    <tr style=\"text-align: right;\">\n",
       "      <th></th>\n",
       "      <th>Churn</th>\n",
       "      <th>AccountWeeks</th>\n",
       "      <th>ContractRenewal</th>\n",
       "      <th>DataPlan</th>\n",
       "      <th>DataUsage</th>\n",
       "      <th>CustServCalls</th>\n",
       "      <th>DayMins</th>\n",
       "      <th>DayCalls</th>\n",
       "      <th>MonthlyCharge</th>\n",
       "      <th>OverageFee</th>\n",
       "      <th>RoamMins</th>\n",
       "      <th>pred_prob</th>\n",
       "    </tr>\n",
       "  </thead>\n",
       "  <tbody>\n",
       "    <tr>\n",
       "      <td>0</td>\n",
       "      <td>0</td>\n",
       "      <td>128</td>\n",
       "      <td>1</td>\n",
       "      <td>1</td>\n",
       "      <td>2.70</td>\n",
       "      <td>1</td>\n",
       "      <td>265.10</td>\n",
       "      <td>110</td>\n",
       "      <td>89.00</td>\n",
       "      <td>9.87</td>\n",
       "      <td>10.00</td>\n",
       "      <td>0.08</td>\n",
       "    </tr>\n",
       "    <tr>\n",
       "      <td>1</td>\n",
       "      <td>0</td>\n",
       "      <td>107</td>\n",
       "      <td>1</td>\n",
       "      <td>1</td>\n",
       "      <td>3.70</td>\n",
       "      <td>1</td>\n",
       "      <td>161.60</td>\n",
       "      <td>123</td>\n",
       "      <td>82.00</td>\n",
       "      <td>9.78</td>\n",
       "      <td>13.70</td>\n",
       "      <td>0.04</td>\n",
       "    </tr>\n",
       "    <tr>\n",
       "      <td>2</td>\n",
       "      <td>0</td>\n",
       "      <td>137</td>\n",
       "      <td>1</td>\n",
       "      <td>0</td>\n",
       "      <td>0.00</td>\n",
       "      <td>0</td>\n",
       "      <td>243.40</td>\n",
       "      <td>114</td>\n",
       "      <td>52.00</td>\n",
       "      <td>6.06</td>\n",
       "      <td>12.20</td>\n",
       "      <td>0.08</td>\n",
       "    </tr>\n",
       "    <tr>\n",
       "      <td>3</td>\n",
       "      <td>0</td>\n",
       "      <td>84</td>\n",
       "      <td>0</td>\n",
       "      <td>0</td>\n",
       "      <td>0.00</td>\n",
       "      <td>2</td>\n",
       "      <td>299.40</td>\n",
       "      <td>71</td>\n",
       "      <td>57.00</td>\n",
       "      <td>3.10</td>\n",
       "      <td>6.60</td>\n",
       "      <td>0.61</td>\n",
       "    </tr>\n",
       "    <tr>\n",
       "      <td>4</td>\n",
       "      <td>0</td>\n",
       "      <td>75</td>\n",
       "      <td>0</td>\n",
       "      <td>0</td>\n",
       "      <td>0.00</td>\n",
       "      <td>3</td>\n",
       "      <td>166.70</td>\n",
       "      <td>113</td>\n",
       "      <td>41.00</td>\n",
       "      <td>7.42</td>\n",
       "      <td>10.10</td>\n",
       "      <td>0.52</td>\n",
       "    </tr>\n",
       "  </tbody>\n",
       "</table>\n",
       "</div>"
      ],
      "text/plain": [
       "   Churn  AccountWeeks  ContractRenewal  DataPlan  DataUsage  CustServCalls  \\\n",
       "0      0           128                1         1       2.70              1   \n",
       "1      0           107                1         1       3.70              1   \n",
       "2      0           137                1         0       0.00              0   \n",
       "3      0            84                0         0       0.00              2   \n",
       "4      0            75                0         0       0.00              3   \n",
       "\n",
       "   DayMins  DayCalls  MonthlyCharge  OverageFee  RoamMins  pred_prob  \n",
       "0   265.10       110          89.00        9.87     10.00       0.08  \n",
       "1   161.60       123          82.00        9.78     13.70       0.04  \n",
       "2   243.40       114          52.00        6.06     12.20       0.08  \n",
       "3   299.40        71          57.00        3.10      6.60       0.61  \n",
       "4   166.70       113          41.00        7.42     10.10       0.52  "
      ]
     },
     "execution_count": 63,
     "metadata": {},
     "output_type": "execute_result"
    }
   ],
   "source": [
    "# Append Y_pred_prob to original df and write a csv file for analysis\n",
    "df1['pred_prob'] = Y_pred_prob[:,1]\n",
    "df1.head()"
   ]
  },
  {
   "cell_type": "code",
   "execution_count": 64,
   "metadata": {},
   "outputs": [],
   "source": [
    "# Converting the Dataframe to a csv file for further analysis\n",
    "df1.to_csv('Predicted_data_Churn.csv')"
   ]
  },
  {
   "cell_type": "code",
   "execution_count": 65,
   "metadata": {},
   "outputs": [],
   "source": [
    "# Build the confusion matrix\n",
    "from sklearn.metrics import confusion_matrix, accuracy_score, precision_score, recall_score, classification_report"
   ]
  },
  {
   "cell_type": "code",
   "execution_count": 66,
   "metadata": {},
   "outputs": [
    {
     "data": {
      "text/plain": [
       "array([[2783,   67],\n",
       "       [ 402,   81]], dtype=int64)"
      ]
     },
     "execution_count": 66,
     "metadata": {},
     "output_type": "execute_result"
    }
   ],
   "source": [
    "# Confusion Matrix\n",
    "confusion_matrix(Y,Y_pred)"
   ]
  },
  {
   "cell_type": "code",
   "execution_count": 67,
   "metadata": {},
   "outputs": [
    {
     "data": {
      "text/plain": [
       "0.8592859285928592"
      ]
     },
     "execution_count": 67,
     "metadata": {},
     "output_type": "execute_result"
    }
   ],
   "source": [
    "# Accuracy of the model\n",
    "accuracy_score(Y,Y_pred)"
   ]
  },
  {
   "cell_type": "code",
   "execution_count": 68,
   "metadata": {},
   "outputs": [
    {
     "data": {
      "text/plain": [
       "0.16770186335403728"
      ]
     },
     "execution_count": 68,
     "metadata": {},
     "output_type": "execute_result"
    }
   ],
   "source": [
    "# Recall score for the model\n",
    "recall_score(Y,Y_pred)"
   ]
  },
  {
   "cell_type": "code",
   "execution_count": 69,
   "metadata": {},
   "outputs": [
    {
     "data": {
      "text/plain": [
       "0.5472972972972973"
      ]
     },
     "execution_count": 69,
     "metadata": {},
     "output_type": "execute_result"
    }
   ],
   "source": [
    "# Precision score for the model\n",
    "precision_score(Y,Y_pred)"
   ]
  },
  {
   "cell_type": "code",
   "execution_count": 70,
   "metadata": {},
   "outputs": [
    {
     "name": "stdout",
     "output_type": "stream",
     "text": [
      "              precision    recall  f1-score   support\n",
      "\n",
      "           0       0.87      0.98      0.92      2850\n",
      "           1       0.55      0.17      0.26       483\n",
      "\n",
      "    accuracy                           0.86      3333\n",
      "   macro avg       0.71      0.57      0.59      3333\n",
      "weighted avg       0.83      0.86      0.83      3333\n",
      "\n"
     ]
    }
   ],
   "source": [
    "# The classification report for the model\n",
    "print(classification_report(Y,Y_pred))"
   ]
  },
  {
   "cell_type": "code",
   "execution_count": 71,
   "metadata": {
    "scrolled": true
   },
   "outputs": [
    {
     "data": {
      "text/plain": [
       "0.5720965457121063"
      ]
     },
     "execution_count": 71,
     "metadata": {},
     "output_type": "execute_result"
    }
   ],
   "source": [
    "# AUC Value\n",
    "from sklearn.metrics import roc_auc_score\n",
    "from sklearn.metrics import roc_curve\n",
    "\n",
    "logit_roc_auc = roc_auc_score(Y,Y_pred)\n",
    "logit_roc_auc"
   ]
  },
  {
   "cell_type": "markdown",
   "metadata": {},
   "source": [
    "#### The AUC score is above 50%, which says that the model is able to seperate the data"
   ]
  },
  {
   "cell_type": "code",
   "execution_count": 72,
   "metadata": {},
   "outputs": [
    {
     "data": {
      "text/plain": [
       "(0.0, 1.05)"
      ]
     },
     "execution_count": 72,
     "metadata": {},
     "output_type": "execute_result"
    },
    {
     "data": {
      "image/png": "[encoded data removed]",
      "text/plain": [
       "<Figure size 432x288 with 1 Axes>"
      ]
     },
     "metadata": {
      "needs_background": "light"
     },
     "output_type": "display_data"
    }
   ],
   "source": [
    "#Plotting the ROC Curve\n",
    "fpr, tpr, threshold = roc_curve(Y,Y_pred_prob[:,1])\n",
    "plt.plot(fpr,tpr)\n",
    "plt.plot([0, 1], [0, 1],'r--')\n",
    "plt.xlim([0.0, 1.0])\n",
    "plt.ylim([0.0, 1.05])"
   ]
  },
  {
   "cell_type": "markdown",
   "metadata": {},
   "source": [
    "## Optimizing Cutoff Value"
   ]
  },
  {
   "cell_type": "code",
   "execution_count": 73,
   "metadata": {},
   "outputs": [
    {
     "name": "stdout",
     "output_type": "stream",
     "text": [
      "\n",
      "******** For i = 0.2 ******\n",
      "Our testing recall is 0.66\n",
      "Our Accuracy score is 0.75\n",
      "Our Precision score is 0.41\n",
      "\n",
      "******** For i = 0.8 ******\n",
      "Our testing recall is 0.02\n",
      "Our Accuracy score is 0.51\n",
      "Our Precision score is 0.71\n"
     ]
    }
   ],
   "source": [
    "# Predict the probability value for X\n",
    "pred_proba_df = pd.DataFrame(Y_pred_prob)\n",
    "\n",
    "# Use Cut-off value to predict the recall_score and accuracy_score.\n",
    "# Predicting the recall_score, precision score and accuracy_score for cutoffs 0.2 and 0.8\n",
    "cutoff_list = [0.2,0.8]\n",
    "for i in cutoff_list:\n",
    "    print ('\\n******** For i = {} ******'.format(i))\n",
    "    y_pred_prob = pd.DataFrame(np.where(pred_proba_df[pred_proba_df.columns] > i, 1, 0))\n",
    "    test_recall_score = metrics.recall_score(Y.to_numpy(),y_pred_prob.iloc[:,1])\n",
    "    test_acu_score = metrics.roc_auc_score(Y.to_numpy(),y_pred_prob.iloc[:,1])\n",
    "    test_precision_score = metrics.precision_score(Y.to_numpy(),y_pred_prob.iloc[:,1])\n",
    "    print('Our testing recall is {:.2f}'.format(test_recall_score))\n",
    "    print('Our Accuracy score is {:.2f}'.format(test_acu_score))\n",
    "    print('Our Precision score is {:.2f}'.format(test_precision_score))"
   ]
  }
 ],
 "metadata": {
  "kernelspec": {
   "display_name": "Python 3",
   "language": "python",
   "name": "python3"
  },
  "language_info": {
   "codemirror_mode": {
    "name": "ipython",
    "version": 3
   },
   "file_extension": ".py",
   "mimetype": "text/x-python",
   "name": "python",
   "nbconvert_exporter": "python",
   "pygments_lexer": "ipython3",
   "version": "3.7.4"
  }
 },
 "nbformat": 4,
 "nbformat_minor": 2
}
